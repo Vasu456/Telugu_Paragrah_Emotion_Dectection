{
  "nbformat": 4,
  "nbformat_minor": 0,
  "metadata": {
    "colab": {
      "provenance": [],
      "gpuType": "T4"
    },
    "kernelspec": {
      "name": "python3",
      "display_name": "Python 3"
    },
    "language_info": {
      "name": "python"
    },
    "accelerator": "GPU"
  },
  "cells": [
    {
      "cell_type": "code",
      "source": [
        "!pip install transformers datasets torch sentencepiece accelerate"
      ],
      "metadata": {
        "colab": {
          "base_uri": "https://localhost:8080/"
        },
        "id": "Ie7kuCSIDdbr",
        "outputId": "efee7541-f40d-402a-bcab-8e0ace103992"
      },
      "execution_count": 53,
      "outputs": [
        {
          "output_type": "stream",
          "name": "stdout",
          "text": [
            "Requirement already satisfied: transformers in /usr/local/lib/python3.11/dist-packages (4.50.0)\n",
            "Requirement already satisfied: datasets in /usr/local/lib/python3.11/dist-packages (3.4.1)\n",
            "Requirement already satisfied: torch in /usr/local/lib/python3.11/dist-packages (2.6.0+cu124)\n",
            "Requirement already satisfied: sentencepiece in /usr/local/lib/python3.11/dist-packages (0.2.0)\n",
            "Requirement already satisfied: accelerate in /usr/local/lib/python3.11/dist-packages (1.5.2)\n",
            "Requirement already satisfied: filelock in /usr/local/lib/python3.11/dist-packages (from transformers) (3.18.0)\n",
            "Requirement already satisfied: huggingface-hub<1.0,>=0.26.0 in /usr/local/lib/python3.11/dist-packages (from transformers) (0.29.3)\n",
            "Requirement already satisfied: numpy>=1.17 in /usr/local/lib/python3.11/dist-packages (from transformers) (2.0.2)\n",
            "Requirement already satisfied: packaging>=20.0 in /usr/local/lib/python3.11/dist-packages (from transformers) (24.2)\n",
            "Requirement already satisfied: pyyaml>=5.1 in /usr/local/lib/python3.11/dist-packages (from transformers) (6.0.2)\n",
            "Requirement already satisfied: regex!=2019.12.17 in /usr/local/lib/python3.11/dist-packages (from transformers) (2024.11.6)\n",
            "Requirement already satisfied: requests in /usr/local/lib/python3.11/dist-packages (from transformers) (2.32.3)\n",
            "Requirement already satisfied: tokenizers<0.22,>=0.21 in /usr/local/lib/python3.11/dist-packages (from transformers) (0.21.1)\n",
            "Requirement already satisfied: safetensors>=0.4.3 in /usr/local/lib/python3.11/dist-packages (from transformers) (0.5.3)\n",
            "Requirement already satisfied: tqdm>=4.27 in /usr/local/lib/python3.11/dist-packages (from transformers) (4.67.1)\n",
            "Requirement already satisfied: pyarrow>=15.0.0 in /usr/local/lib/python3.11/dist-packages (from datasets) (18.1.0)\n",
            "Requirement already satisfied: dill<0.3.9,>=0.3.0 in /usr/local/lib/python3.11/dist-packages (from datasets) (0.3.8)\n",
            "Requirement already satisfied: pandas in /usr/local/lib/python3.11/dist-packages (from datasets) (2.2.2)\n",
            "Requirement already satisfied: xxhash in /usr/local/lib/python3.11/dist-packages (from datasets) (3.5.0)\n",
            "Requirement already satisfied: multiprocess<0.70.17 in /usr/local/lib/python3.11/dist-packages (from datasets) (0.70.16)\n",
            "Requirement already satisfied: fsspec<=2024.12.0,>=2023.1.0 in /usr/local/lib/python3.11/dist-packages (from fsspec[http]<=2024.12.0,>=2023.1.0->datasets) (2024.12.0)\n",
            "Requirement already satisfied: aiohttp in /usr/local/lib/python3.11/dist-packages (from datasets) (3.11.14)\n",
            "Requirement already satisfied: typing-extensions>=4.10.0 in /usr/local/lib/python3.11/dist-packages (from torch) (4.12.2)\n",
            "Requirement already satisfied: networkx in /usr/local/lib/python3.11/dist-packages (from torch) (3.4.2)\n",
            "Requirement already satisfied: jinja2 in /usr/local/lib/python3.11/dist-packages (from torch) (3.1.6)\n",
            "Requirement already satisfied: nvidia-cuda-nvrtc-cu12==12.4.127 in /usr/local/lib/python3.11/dist-packages (from torch) (12.4.127)\n",
            "Requirement already satisfied: nvidia-cuda-runtime-cu12==12.4.127 in /usr/local/lib/python3.11/dist-packages (from torch) (12.4.127)\n",
            "Requirement already satisfied: nvidia-cuda-cupti-cu12==12.4.127 in /usr/local/lib/python3.11/dist-packages (from torch) (12.4.127)\n",
            "Requirement already satisfied: nvidia-cudnn-cu12==9.1.0.70 in /usr/local/lib/python3.11/dist-packages (from torch) (9.1.0.70)\n",
            "Requirement already satisfied: nvidia-cublas-cu12==12.4.5.8 in /usr/local/lib/python3.11/dist-packages (from torch) (12.4.5.8)\n",
            "Requirement already satisfied: nvidia-cufft-cu12==11.2.1.3 in /usr/local/lib/python3.11/dist-packages (from torch) (11.2.1.3)\n",
            "Requirement already satisfied: nvidia-curand-cu12==10.3.5.147 in /usr/local/lib/python3.11/dist-packages (from torch) (10.3.5.147)\n",
            "Requirement already satisfied: nvidia-cusolver-cu12==11.6.1.9 in /usr/local/lib/python3.11/dist-packages (from torch) (11.6.1.9)\n",
            "Requirement already satisfied: nvidia-cusparse-cu12==12.3.1.170 in /usr/local/lib/python3.11/dist-packages (from torch) (12.3.1.170)\n",
            "Requirement already satisfied: nvidia-cusparselt-cu12==0.6.2 in /usr/local/lib/python3.11/dist-packages (from torch) (0.6.2)\n",
            "Requirement already satisfied: nvidia-nccl-cu12==2.21.5 in /usr/local/lib/python3.11/dist-packages (from torch) (2.21.5)\n",
            "Requirement already satisfied: nvidia-nvtx-cu12==12.4.127 in /usr/local/lib/python3.11/dist-packages (from torch) (12.4.127)\n",
            "Requirement already satisfied: nvidia-nvjitlink-cu12==12.4.127 in /usr/local/lib/python3.11/dist-packages (from torch) (12.4.127)\n",
            "Requirement already satisfied: triton==3.2.0 in /usr/local/lib/python3.11/dist-packages (from torch) (3.2.0)\n",
            "Requirement already satisfied: sympy==1.13.1 in /usr/local/lib/python3.11/dist-packages (from torch) (1.13.1)\n",
            "Requirement already satisfied: mpmath<1.4,>=1.1.0 in /usr/local/lib/python3.11/dist-packages (from sympy==1.13.1->torch) (1.3.0)\n",
            "Requirement already satisfied: psutil in /usr/local/lib/python3.11/dist-packages (from accelerate) (5.9.5)\n",
            "Requirement already satisfied: aiohappyeyeballs>=2.3.0 in /usr/local/lib/python3.11/dist-packages (from aiohttp->datasets) (2.6.1)\n",
            "Requirement already satisfied: aiosignal>=1.1.2 in /usr/local/lib/python3.11/dist-packages (from aiohttp->datasets) (1.3.2)\n",
            "Requirement already satisfied: attrs>=17.3.0 in /usr/local/lib/python3.11/dist-packages (from aiohttp->datasets) (25.3.0)\n",
            "Requirement already satisfied: frozenlist>=1.1.1 in /usr/local/lib/python3.11/dist-packages (from aiohttp->datasets) (1.5.0)\n",
            "Requirement already satisfied: multidict<7.0,>=4.5 in /usr/local/lib/python3.11/dist-packages (from aiohttp->datasets) (6.2.0)\n",
            "Requirement already satisfied: propcache>=0.2.0 in /usr/local/lib/python3.11/dist-packages (from aiohttp->datasets) (0.3.0)\n",
            "Requirement already satisfied: yarl<2.0,>=1.17.0 in /usr/local/lib/python3.11/dist-packages (from aiohttp->datasets) (1.18.3)\n",
            "Requirement already satisfied: charset-normalizer<4,>=2 in /usr/local/lib/python3.11/dist-packages (from requests->transformers) (3.4.1)\n",
            "Requirement already satisfied: idna<4,>=2.5 in /usr/local/lib/python3.11/dist-packages (from requests->transformers) (3.10)\n",
            "Requirement already satisfied: urllib3<3,>=1.21.1 in /usr/local/lib/python3.11/dist-packages (from requests->transformers) (2.3.0)\n",
            "Requirement already satisfied: certifi>=2017.4.17 in /usr/local/lib/python3.11/dist-packages (from requests->transformers) (2025.1.31)\n",
            "Requirement already satisfied: MarkupSafe>=2.0 in /usr/local/lib/python3.11/dist-packages (from jinja2->torch) (3.0.2)\n",
            "Requirement already satisfied: python-dateutil>=2.8.2 in /usr/local/lib/python3.11/dist-packages (from pandas->datasets) (2.8.2)\n",
            "Requirement already satisfied: pytz>=2020.1 in /usr/local/lib/python3.11/dist-packages (from pandas->datasets) (2025.1)\n",
            "Requirement already satisfied: tzdata>=2022.7 in /usr/local/lib/python3.11/dist-packages (from pandas->datasets) (2025.1)\n",
            "Requirement already satisfied: six>=1.5 in /usr/local/lib/python3.11/dist-packages (from python-dateutil>=2.8.2->pandas->datasets) (1.17.0)\n"
          ]
        }
      ]
    },
    {
      "cell_type": "code",
      "execution_count": 54,
      "metadata": {
        "id": "L3RN3F9uCdXi"
      },
      "outputs": [],
      "source": [
        "import pandas as pd\n",
        "import torch\n",
        "import torch.nn as nn\n",
        "import torch.nn.functional as F\n",
        "from torch.utils.data import Dataset, DataLoader\n",
        "from transformers import BertTokenizer, BertModel\n",
        "from torch.optim import AdamW"
      ]
    },
    {
      "cell_type": "code",
      "source": [
        "df = pd.read_csv(\"/content/data.csv\")"
      ],
      "metadata": {
        "id": "1LDt3ODVC_nu"
      },
      "execution_count": 55,
      "outputs": []
    },
    {
      "cell_type": "code",
      "source": [
        "df[[\"happy\", \"sad\", \"anger\", \"fear\"]] /= 100"
      ],
      "metadata": {
        "id": "idIwc8skDEs_"
      },
      "execution_count": 56,
      "outputs": []
    },
    {
      "cell_type": "code",
      "source": [
        "tokenizer = BertTokenizer.from_pretrained(\"bert-base-multilingual-cased\")"
      ],
      "metadata": {
        "id": "NBb0xPChDKl4"
      },
      "execution_count": 57,
      "outputs": []
    },
    {
      "cell_type": "code",
      "source": [
        "def tokenize_data(text):\n",
        "    return tokenizer(text, padding=\"max_length\", truncation=True, max_length=128, return_tensors=\"pt\")"
      ],
      "metadata": {
        "id": "4HMm_Wg_DLXB"
      },
      "execution_count": 58,
      "outputs": []
    },
    {
      "cell_type": "code",
      "source": [
        "df[\"tokens\"] = df[\"Paragraph\"].apply(lambda x: tokenize_data(x))"
      ],
      "metadata": {
        "id": "dc_4fnicDlmK"
      },
      "execution_count": 59,
      "outputs": []
    },
    {
      "cell_type": "code",
      "source": [
        "class TeluguEmotionDataset(Dataset):\n",
        "    def __init__(self, dataframe):\n",
        "        self.data = dataframe\n",
        "        self.labels = torch.tensor(self.data[[\"happy\", \"sad\", \"anger\", \"fear\"]].values, dtype=torch.float)\n",
        "\n",
        "    def __len__(self):\n",
        "        return len(self.data)\n",
        "\n",
        "    def __getitem__(self, idx):\n",
        "        tokens = self.data.iloc[idx][\"tokens\"]\n",
        "        return {\n",
        "            \"input_ids\": tokens[\"input_ids\"].squeeze(),\n",
        "            \"attention_mask\": tokens[\"attention_mask\"].squeeze(),\n",
        "            \"labels\": self.labels[idx]\n",
        "        }"
      ],
      "metadata": {
        "id": "YfkBmdZnDoWX"
      },
      "execution_count": 60,
      "outputs": []
    },
    {
      "cell_type": "code",
      "source": [
        "dataset = TeluguEmotionDataset(df)\n",
        "train_loader = DataLoader(dataset, batch_size=8, shuffle=True)\n",
        "device = torch.device(\"cuda\" if torch.cuda.is_available() else \"cpu\")"
      ],
      "metadata": {
        "id": "3-S4YTYQDu1e"
      },
      "execution_count": 61,
      "outputs": []
    },
    {
      "cell_type": "code",
      "source": [
        "class EnhancedEmotionClassifier(nn.Module):\n",
        "    def __init__(self, num_labels=4):\n",
        "        super().__init__()\n",
        "        self.bert = BertModel.from_pretrained(\"bert-base-multilingual-cased\")\n",
        "        self.dropout = nn.Dropout(0.3)\n",
        "        self.dense = nn.Linear(self.bert.config.hidden_size, 256)\n",
        "        self.classifier = nn.Linear(256, num_labels)\n",
        "\n",
        "    def forward(self, input_ids, attention_mask):\n",
        "        outputs = self.bert(input_ids=input_ids, attention_mask=attention_mask)\n",
        "        pooled_output = outputs.last_hidden_state[:, 0, :]\n",
        "        pooled_output = self.dropout(pooled_output)\n",
        "        features = F.relu(self.dense(pooled_output))\n",
        "        logits = self.classifier(features)\n",
        "        return logits"
      ],
      "metadata": {
        "id": "u2epFRs7DrvO"
      },
      "execution_count": 62,
      "outputs": []
    },
    {
      "cell_type": "code",
      "source": [
        "model = EnhancedEmotionClassifier().to(device)\n",
        "optimizer = AdamW(model.parameters(), lr=2e-5, weight_decay=0.01)\n",
        "# loss_fn = nn.CrossEntropyLoss()\n",
        "loss_fn = nn.BCEWithLogitsLoss()\n",
        "# Or weighted loss for class imbalance:\n",
        "# weights = torch.tensor([2.0, 1.0, 1.0, 1.0])  # Adjust based on your data\n",
        "# loss_fn = nn.CrossEntropyLoss(weight=weights.to(device))"
      ],
      "metadata": {
        "id": "H6XEZ8J1Dz3p"
      },
      "execution_count": 63,
      "outputs": []
    },
    {
      "cell_type": "code",
      "source": [
        "epochs = 100\n",
        "for epoch in range(epochs):\n",
        "    model.train()\n",
        "    total_loss = 0\n",
        "    for batch in train_loader:\n",
        "        input_ids = batch[\"input_ids\"].to(device)\n",
        "        attention_mask = batch[\"attention_mask\"].to(device)\n",
        "        labels = batch[\"labels\"].to(device)\n",
        "\n",
        "        optimizer.zero_grad()\n",
        "        outputs = model(input_ids, attention_mask)\n",
        "        loss = loss_fn(outputs, labels)\n",
        "        loss.backward()\n",
        "        optimizer.step()\n",
        "        total_loss += loss.item()\n",
        "\n",
        "    print(f\"Epoch {epoch+1}, Loss: {total_loss / len(train_loader)}\")\n",
        "\n",
        "print(\"Training complete!\")"
      ],
      "metadata": {
        "id": "I5ZPM3QGD2r0",
        "colab": {
          "base_uri": "https://localhost:8080/"
        },
        "outputId": "0cc1f673-6000-4b52-dd75-81e9b130d0c7"
      },
      "execution_count": 64,
      "outputs": [
        {
          "output_type": "stream",
          "name": "stdout",
          "text": [
            "Epoch 1, Loss: 0.5316507470878687\n",
            "Epoch 2, Loss: 0.503074321557175\n",
            "Epoch 3, Loss: 0.4991218386725946\n",
            "Epoch 4, Loss: 0.49811653657393024\n",
            "Epoch 5, Loss: 0.49844642118974164\n",
            "Epoch 6, Loss: 0.490732725371014\n",
            "Epoch 7, Loss: 0.48683805560523813\n",
            "Epoch 8, Loss: 0.4860095571387898\n",
            "Epoch 9, Loss: 0.47723981873555615\n",
            "Epoch 10, Loss: 0.47106841477480804\n",
            "Epoch 11, Loss: 0.4669351652264595\n",
            "Epoch 12, Loss: 0.4644781445915049\n",
            "Epoch 13, Loss: 0.4617360965772109\n",
            "Epoch 14, Loss: 0.46018194204027\n",
            "Epoch 15, Loss: 0.45936497233130713\n",
            "Epoch 16, Loss: 0.4582851766185327\n",
            "Epoch 17, Loss: 0.4584353945472024\n",
            "Epoch 18, Loss: 0.45719874785705045\n",
            "Epoch 19, Loss: 0.4570943164554509\n",
            "Epoch 20, Loss: 0.4567573903636499\n",
            "Epoch 21, Loss: 0.45669353821060876\n",
            "Epoch 22, Loss: 0.4559469223022461\n",
            "Epoch 23, Loss: 0.4555663039738482\n",
            "Epoch 24, Loss: 0.45583452690731396\n",
            "Epoch 25, Loss: 0.4553373130885037\n",
            "Epoch 26, Loss: 0.45534400709650735\n",
            "Epoch 27, Loss: 0.45531690459359775\n",
            "Epoch 28, Loss: 0.4552532149986787\n",
            "Epoch 29, Loss: 0.455060524019328\n",
            "Epoch 30, Loss: 0.4554679427634586\n",
            "Epoch 31, Loss: 0.45496632023291156\n",
            "Epoch 32, Loss: 0.45500580898740073\n",
            "Epoch 33, Loss: 0.4547634944319725\n",
            "Epoch 34, Loss: 0.4548014693639495\n",
            "Epoch 35, Loss: 0.45500942116433923\n",
            "Epoch 36, Loss: 0.45522561872547324\n",
            "Epoch 37, Loss: 0.4548748535188762\n",
            "Epoch 38, Loss: 0.455036654391072\n",
            "Epoch 39, Loss: 0.45502272519198333\n",
            "Epoch 40, Loss: 0.45495760237628763\n",
            "Epoch 41, Loss: 0.4549620734019713\n",
            "Epoch 42, Loss: 0.4550754922357472\n",
            "Epoch 43, Loss: 0.4546665935353799\n",
            "Epoch 44, Loss: 0.454630546271801\n",
            "Epoch 45, Loss: 0.4542382230812853\n",
            "Epoch 46, Loss: 0.4547072662548585\n",
            "Epoch 47, Loss: 0.45462537692351773\n",
            "Epoch 48, Loss: 0.4544690962542187\n",
            "Epoch 49, Loss: 0.4544842236421325\n",
            "Epoch 50, Loss: 0.4548350159417499\n",
            "Epoch 51, Loss: 0.45446664839982986\n",
            "Epoch 52, Loss: 0.45428119667551736\n",
            "Epoch 53, Loss: 0.4542400044473735\n",
            "Epoch 54, Loss: 0.4542737406763164\n",
            "Epoch 55, Loss: 0.454244312914935\n",
            "Epoch 56, Loss: 0.45454754477197473\n",
            "Epoch 57, Loss: 0.4543425278230147\n",
            "Epoch 58, Loss: 0.45448640259829437\n",
            "Epoch 59, Loss: 0.45440975712104276\n",
            "Epoch 60, Loss: 0.4544200511141257\n",
            "Epoch 61, Loss: 0.45396280220963736\n",
            "Epoch 62, Loss: 0.45432671159505844\n",
            "Epoch 63, Loss: 0.4540915468877012\n",
            "Epoch 64, Loss: 0.45405902510339563\n",
            "Epoch 65, Loss: 0.4541820301250978\n",
            "Epoch 66, Loss: 0.4542362689971924\n",
            "Epoch 67, Loss: 0.45420483296567743\n",
            "Epoch 68, Loss: 0.45413695208050986\n",
            "Epoch 69, Loss: 0.4541172588413412\n",
            "Epoch 70, Loss: 0.45420553332025354\n",
            "Epoch 71, Loss: 0.4541476158933206\n",
            "Epoch 72, Loss: 0.45429582487453113\n",
            "Epoch 73, Loss: 0.45401923155242746\n",
            "Epoch 74, Loss: 0.4536917588927529\n",
            "Epoch 75, Loss: 0.45385030047460034\n",
            "Epoch 76, Loss: 0.45407456024126575\n",
            "Epoch 77, Loss: 0.4541628421707587\n",
            "Epoch 78, Loss: 0.45411306755109265\n",
            "Epoch 79, Loss: 0.4543902040882544\n",
            "Epoch 80, Loss: 0.45416971092874353\n",
            "Epoch 81, Loss: 0.45408340882171283\n",
            "Epoch 82, Loss: 0.45423507622697135\n",
            "Epoch 83, Loss: 0.4542404602874409\n",
            "Epoch 84, Loss: 0.45400607179511676\n",
            "Epoch 85, Loss: 0.4542164924469861\n",
            "Epoch 86, Loss: 0.453915918415243\n",
            "Epoch 87, Loss: 0.45383185283704236\n",
            "Epoch 88, Loss: 0.4539918797937306\n",
            "Epoch 89, Loss: 0.45387897166338836\n",
            "Epoch 90, Loss: 0.4540302496064793\n",
            "Epoch 91, Loss: 0.45391004803505813\n",
            "Epoch 92, Loss: 0.45403153787959705\n",
            "Epoch 93, Loss: 0.4539469399235465\n",
            "Epoch 94, Loss: 0.45400840653614566\n",
            "Epoch 95, Loss: 0.453985911201347\n",
            "Epoch 96, Loss: 0.45359884879805823\n",
            "Epoch 97, Loss: 0.4540787318890745\n",
            "Epoch 98, Loss: 0.4541295387528159\n",
            "Epoch 99, Loss: 0.4536567303267392\n",
            "Epoch 100, Loss: 0.45385598188096826\n",
            "Training complete!\n"
          ]
        }
      ]
    },
    {
      "cell_type": "code",
      "source": [
        "def predict_emotions(model, tokenizer, sentence):\n",
        "    model.eval()\n",
        "    inputs = tokenizer(sentence, return_tensors=\"pt\", padding=True, truncation=True, max_length=128).to(device)\n",
        "\n",
        "    with torch.no_grad():\n",
        "        outputs = model(inputs[\"input_ids\"], inputs[\"attention_mask\"])\n",
        "\n",
        "    probabilities = F.softmax(outputs, dim=1).cpu().numpy().flatten()\n",
        "    emotions = [\"Happy\", \"Sad\", \"Anger\", \"Fear\"]\n",
        "    return {emotions[i]: f\"{probabilities[i]*100:.2f}%\" for i in range(len(emotions))}\n",
        "\n",
        "new_sentence = \"అయినా ముందుకు అడుగు వేయలేకపోయాడు బాటసారి.‘‘ముసలిదాన్ని. లేవలేను. పరిగెత్తలేను. చేతి గోళ్ళూ, కాలి గోళ్ళూ రెండూ మొద్దుబారిపోయాయి. పళ్ళూడిపోయాయి. కళ్ళు కూడా సరిగా కనిపించడం లేదు. మాంసం అన్న ముచ్చటే లేదు. మాంసం తినడాన్ని ఎప్పుడో మానుకున్నాను. పండ్లూ కాయలూ తిని బతుకుతున్నాను. నా అవతారం చూసావు కదా! నమ్మకం కలగడం లేదా? నా గురించి లేనిపోనివి ఆలోచించి భయపడకు. రా! ముందు ఆ చెరువులో స్నానం చెయ్‌.’’ అన్నది పులి.దాని మాటలు నమ్మాడు బాటసారి. పులి మాటలు నమ్మాడనడం కన్నా, బంగారం మీద ఆశ ఎక్కువయిందతనికి. బంగారు కడియం కళ్ళ ముందు కదలాడుతోంటే స్నానం చేసేందుకు చెరువులోనికి దిగాడు. బురద బురదగా ఉంది లోపల. కాలు పెడితే జారి పోతున్నాడు\"\n",
        "predicted_emotions = predict_emotions(model, tokenizer, new_sentence)\n",
        "\n",
        "print(\"Predicted Emotion Percentages:\")\n",
        "for emotion, percentage in predicted_emotions.items():\n",
        "    print(f\"{emotion}: {percentage}\")\n"
      ],
      "metadata": {
        "id": "12j9fN7TD8e_",
        "colab": {
          "base_uri": "https://localhost:8080/"
        },
        "outputId": "75185854-a84d-4c60-bc7c-b48e58e1c300"
      },
      "execution_count": 68,
      "outputs": [
        {
          "output_type": "stream",
          "name": "stdout",
          "text": [
            "Predicted Emotion Percentages:\n",
            "Happy: 47.01%\n",
            "Sad: 29.12%\n",
            "Anger: 7.10%\n",
            "Fear: 16.78%\n"
          ]
        }
      ]
    },
    {
      "cell_type": "code",
      "source": [
        "import torch\n",
        "import torch.nn.functional as F\n",
        "\n",
        "def predict_emotions(model, tokenizer, sentence):\n",
        "    model.eval()\n",
        "    inputs = tokenizer(sentence, return_tensors=\"pt\", padding=True, truncation=True, max_length=128).to(device)\n",
        "\n",
        "    with torch.no_grad():\n",
        "        outputs = model(inputs[\"input_ids\"], inputs[\"attention_mask\"])\n",
        "\n",
        "    probabilities = F.softmax(outputs, dim=1).cpu().numpy().flatten()\n",
        "    emotions = [\"Happy\", \"Sad\", \"Anger\", \"Fear\"]\n",
        "    return {emotions[i]: f\"{probabilities[i]*100:.2f}%\" for i in range(len(emotions))}\n",
        "\n",
        "new_sentence = \"పరిష్కారమార్గాన్ని కనుక్కోవాలనుకున్నాడు. మంచి గురువుల దగ్గర చదివిస్తే పిల్లలెందుకు చదవరు? చదవనని వారనలేదే! చదివించడం లేదు కాబట్టే వారాడుతున్నారు. తప్పు తనదే! గారాబం చేసి, అప్పుడే పిల్లలకు చదువులెందుకనుకుంటూ నిర్లక్ష్యం చేసి, ఇప్పుడు బాధపడడంలో అర్థం లేదనుకున్నాడు. పిల్లలకు చదువు చెప్పించడం తల్లిదండ్రుల బాధ్యత. సరయిన గురువు దగ్గర వారిని చదివించాలి. చదివించకపోవడం నేరం కూడా అనుకున్నాడు. పుట్టుకతోనే ఎవరూ పండితులు కారు. విద్వాంసులు అంతకన్నా కారు. బాగా చదువుకుని పండితులవుతారు. తర్వాత్తర్వాత విద్వాంసులుగా కీర్తి ప్రతిష్ఠలు ఆర్జిస్తారు. ప్రయత్నించాలి. ప్రయత్నిస్తేనే ఏదయినా ఫలిస్తుందనుకున్నాడు. వూరికే దిగులుపడి ప్రయోజనం లేదు. \"\n",
        "\n",
        "\n",
        "model = EnhancedEmotionClassifier()\n",
        "model.load_state_dict(torch.load(\"/content/enhanced_emotion_classifier.pth\"))\n",
        "model.to(device)\n",
        "model.eval()\n",
        "\n",
        "predicted_emotions = predict_emotions(model, tokenizer, new_sentence)\n",
        "\n",
        "print(\"Predicted Emotion Percentages:\")\n",
        "for emotion, percentage in predicted_emotions.items():\n",
        "    print(f\"{emotion}: {percentage}\")"
      ],
      "metadata": {
        "colab": {
          "base_uri": "https://localhost:8080/"
        },
        "id": "ZpznvHDvIUR4",
        "outputId": "95d3bc85-9607-41ca-e604-2b99458e275c"
      },
      "execution_count": 69,
      "outputs": [
        {
          "output_type": "stream",
          "name": "stdout",
          "text": [
            "Predicted Emotion Percentages:\n",
            "Happy: 48.45%\n",
            "Sad: 28.11%\n",
            "Anger: 7.04%\n",
            "Fear: 16.39%\n"
          ]
        }
      ]
    },
    {
      "cell_type": "code",
      "source": [],
      "metadata": {
        "id": "b4zjriitHuWg"
      },
      "execution_count": 69,
      "outputs": []
    },
    {
      "cell_type": "code",
      "source": [],
      "metadata": {
        "id": "ayhtlspbQU1Y"
      },
      "execution_count": 67,
      "outputs": []
    },
    {
      "cell_type": "code",
      "source": [],
      "metadata": {
        "id": "X7ghVvIXQi9b"
      },
      "execution_count": 67,
      "outputs": []
    }
  ]
}